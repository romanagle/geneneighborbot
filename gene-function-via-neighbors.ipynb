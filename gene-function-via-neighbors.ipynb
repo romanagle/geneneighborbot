{
 "cells": [
  {
   "cell_type": "code",
   "execution_count": 1,
   "id": "5fe84efc",
   "metadata": {
    "_cell_guid": "b1076dfc-b9ad-4769-8c92-a6c4dae69d19",
    "_uuid": "8f2839f25d086af736a60e9eeb907d3b93b6e0e5",
    "execution": {
     "iopub.execute_input": "2024-12-01T21:35:51.887421Z",
     "iopub.status.busy": "2024-12-01T21:35:51.886888Z",
     "iopub.status.idle": "2024-12-01T21:35:52.924696Z",
     "shell.execute_reply": "2024-12-01T21:35:52.923375Z"
    },
    "papermill": {
     "duration": 1.047072,
     "end_time": "2024-12-01T21:35:52.927270",
     "exception": false,
     "start_time": "2024-12-01T21:35:51.880198",
     "status": "completed"
    },
    "tags": []
   },
   "outputs": [
    {
     "name": "stdout",
     "output_type": "stream",
     "text": [
      "/kaggle/input/gemini-long-context/submission_instructions.txt\n",
      "/kaggle/input/e-coli-genomes/E coli dataset/genes_GCF_000352125.1.tsv\n",
      "/kaggle/input/e-coli-genomes/E coli dataset/genes_GCF_900457215.1.tsv\n",
      "/kaggle/input/e-coli-genomes/E coli dataset/genes_GCF_013186525.1.tsv\n",
      "/kaggle/input/e-coli-genomes/E coli dataset/genes_GCF_002965625.1.tsv\n",
      "/kaggle/input/e-coli-genomes/E coli dataset/genes_GCF_003697165.2 (1).tsv\n",
      "/kaggle/input/e-coli-genomes/E coli dataset/genes_GCF_002993265.1.tsv\n",
      "/kaggle/input/e-coli-genomes/E coli dataset/genes_GCF_022972535.1.tsv\n",
      "/kaggle/input/e-coli-genomes/E coli dataset/genes_GCF_900499355.1.tsv\n",
      "/kaggle/input/e-coli-genomes/E coli dataset/genes_GCF_910664935.1.tsv\n",
      "/kaggle/input/e-coli-genomes/E coli dataset/genes_GCF_023276905.1.tsv\n",
      "/kaggle/input/e-coli-genomes/E coli dataset/genes_GCF_000690815.1.tsv\n",
      "/kaggle/input/e-coli-genomes/E coli dataset/genes_GCF_009899265.1.tsv\n",
      "/kaggle/input/e-coli-genomes/E coli dataset/genes_GCF_001912235.1.tsv\n",
      "/kaggle/input/e-coli-genomes/E coli dataset/genes_GCF_019269175.1.tsv\n",
      "/kaggle/input/e-coli-genomes/E coli dataset/genes_GCF_009899475.1.tsv\n",
      "/kaggle/input/e-coli-genomes/E coli dataset/genes_GCF_910664785.1.tsv\n",
      "/kaggle/input/e-coli-genomes/E coli dataset/genes_GCF_002949675.1.tsv\n",
      "/kaggle/input/e-coli-genomes/E coli dataset/genes_GCF_011881725.1.tsv\n",
      "/kaggle/input/e-coli-genomes/E coli dataset/genes_GCF_000017985.1.tsv\n",
      "/kaggle/input/e-coli-genomes/E coli dataset/genes_GCF_013112335.1.tsv\n",
      "/kaggle/input/e-coli-genomes/E coli dataset/genes_GCF_021697395.1.tsv\n",
      "/kaggle/input/e-coli-genomes/E coli dataset/genes_GCF_000812765.1.tsv\n"
     ]
    }
   ],
   "source": [
    "# This Python 3 environment comes with many helpful analytics libraries installed\n",
    "# It is defined by the kaggle/python Docker image: https://github.com/kaggle/docker-python\n",
    "# For example, here's several helpful packages to load\n",
    "\n",
    "import numpy as np # linear algebra\n",
    "import pandas as pd # data processing, CSV file I/O (e.g. pd.read_csv)\n",
    "\n",
    "# Input data files are available in the read-only \"../input/\" directory\n",
    "# For example, running this (by clicking run or pressing Shift+Enter) will list all files under the input directory\n",
    "\n",
    "import os\n",
    "for dirname, _, filenames in os.walk('/kaggle/input'):\n",
    "    for filename in filenames:\n",
    "        print(os.path.join(dirname, filename))\n",
    "\n",
    "# You can write up to 20GB to the current directory (/kaggle/working/) that gets preserved as output when you create a version using \"Save & Run All\" \n",
    "# You can also write temporary files to /kaggle/temp/, but they won't be saved outside of the current session"
   ]
  },
  {
   "cell_type": "markdown",
   "id": "6fc337ac",
   "metadata": {
    "papermill": {
     "duration": 0.003907,
     "end_time": "2024-12-01T21:35:52.935651",
     "exception": false,
     "start_time": "2024-12-01T21:35:52.931744",
     "status": "completed"
    },
    "tags": []
   },
   "source": [
    "# Installation"
   ]
  },
  {
   "cell_type": "code",
   "execution_count": 2,
   "id": "eebff93f",
   "metadata": {
    "execution": {
     "iopub.execute_input": "2024-12-01T21:35:52.945518Z",
     "iopub.status.busy": "2024-12-01T21:35:52.945027Z",
     "iopub.status.idle": "2024-12-01T21:36:37.523847Z",
     "shell.execute_reply": "2024-12-01T21:36:37.522640Z"
    },
    "papermill": {
     "duration": 44.58683,
     "end_time": "2024-12-01T21:36:37.526538",
     "exception": false,
     "start_time": "2024-12-01T21:35:52.939708",
     "status": "completed"
    },
    "tags": []
   },
   "outputs": [
    {
     "name": "stdout",
     "output_type": "stream",
     "text": [
      "\u001b[31mERROR: pip's dependency resolver does not currently take into account all the packages that are installed. This behaviour is the source of the following dependency conflicts.\r\n",
      "google-cloud-bigquery 2.34.4 requires packaging<22.0dev,>=14.3, but you have packaging 24.2 which is incompatible.\r\n",
      "jupyterlab 4.2.5 requires jupyter-lsp>=2.0.0, but you have jupyter-lsp 1.5.1 which is incompatible.\r\n",
      "jupyterlab-lsp 5.1.0 requires jupyter-lsp>=2.0.0, but you have jupyter-lsp 1.5.1 which is incompatible.\r\n",
      "kfp 2.5.0 requires google-cloud-storage<3,>=2.2.1, but you have google-cloud-storage 1.44.0 which is incompatible.\r\n",
      "kfp 2.5.0 requires requests-toolbelt<1,>=0.8.0, but you have requests-toolbelt 1.0.0 which is incompatible.\r\n",
      "libpysal 4.9.2 requires shapely>=2.0.1, but you have shapely 1.8.5.post1 which is incompatible.\r\n",
      "thinc 8.3.2 requires numpy<2.1.0,>=2.0.0; python_version >= \"3.9\", but you have numpy 1.26.4 which is incompatible.\r\n",
      "ydata-profiling 4.10.0 requires scipy<1.14,>=1.4.1, but you have scipy 1.14.1 which is incompatible.\u001b[0m\u001b[31m\r\n",
      "\u001b[0mNote: you may need to restart the kernel to use updated packages.\n"
     ]
    }
   ],
   "source": [
    "#Installation\n",
    "!pip install -q -U google-generativeai\n",
    "%pip install -qU 'langgraph==0.2.45' 'langchain-google-genai==2.0.4'\n",
    "\n",
    "\n",
    "import google.generativeai as genai\n",
    "from kaggle_secrets import UserSecretsClient\n",
    "\n",
    "#Set API key and generate model\n",
    "GOOGLE_API_KEY = UserSecretsClient().get_secret(\"GEMINI_KEY\")\n",
    "os.environ[\"GOOGLE_API_KEY\"] = GOOGLE_API_KEY"
   ]
  },
  {
   "cell_type": "markdown",
   "id": "8e32043e",
   "metadata": {
    "papermill": {
     "duration": 0.004033,
     "end_time": "2024-12-01T21:36:37.535035",
     "exception": false,
     "start_time": "2024-12-01T21:36:37.531002",
     "status": "completed"
    },
    "tags": []
   },
   "source": [
    "# Preprocessing"
   ]
  },
  {
   "cell_type": "markdown",
   "id": "e8022eab",
   "metadata": {
    "papermill": {
     "duration": 0.004097,
     "end_time": "2024-12-01T21:36:37.543507",
     "exception": false,
     "start_time": "2024-12-01T21:36:37.539410",
     "status": "completed"
    },
    "tags": []
   },
   "source": [
    "- original data are separate TSVs for different scaffolds in E Coli genomes of various strains. Official website: https://fast.genomics.lbl.gov/cgi/taxon.cgi?level=genus&taxon=Escherichia&order=Enterobacterales\n",
    "- we want to concatenate them into one single large dataframe for Gemini to take in as context"
   ]
  },
  {
   "cell_type": "code",
   "execution_count": 3,
   "id": "04ed877c",
   "metadata": {
    "execution": {
     "iopub.execute_input": "2024-12-01T21:36:37.554825Z",
     "iopub.status.busy": "2024-12-01T21:36:37.554264Z",
     "iopub.status.idle": "2024-12-01T21:36:38.166397Z",
     "shell.execute_reply": "2024-12-01T21:36:38.165273Z"
    },
    "papermill": {
     "duration": 0.621555,
     "end_time": "2024-12-01T21:36:38.169877",
     "exception": false,
     "start_time": "2024-12-01T21:36:37.548322",
     "status": "completed"
    },
    "tags": []
   },
   "outputs": [
    {
     "data": {
      "text/html": [
       "<div>\n",
       "<style scoped>\n",
       "    .dataframe tbody tr th:only-of-type {\n",
       "        vertical-align: middle;\n",
       "    }\n",
       "\n",
       "    .dataframe tbody tr th {\n",
       "        vertical-align: top;\n",
       "    }\n",
       "\n",
       "    .dataframe thead th {\n",
       "        text-align: right;\n",
       "    }\n",
       "</style>\n",
       "<table border=\"1\" class=\"dataframe\">\n",
       "  <thead>\n",
       "    <tr style=\"text-align: right;\">\n",
       "      <th></th>\n",
       "      <th>scaffoldId</th>\n",
       "      <th>begin</th>\n",
       "      <th>end</th>\n",
       "      <th>strand</th>\n",
       "      <th>locusTag</th>\n",
       "      <th>proteinId</th>\n",
       "      <th>desc</th>\n",
       "    </tr>\n",
       "  </thead>\n",
       "  <tbody>\n",
       "    <tr>\n",
       "      <th>0</th>\n",
       "      <td>NZ_KB732999.1</td>\n",
       "      <td>205</td>\n",
       "      <td>1176</td>\n",
       "      <td>-</td>\n",
       "      <td>WE1_RS22575</td>\n",
       "      <td>WP_000817028.1</td>\n",
       "      <td>ParB/RepB/Spo0J family plasmid partition protein</td>\n",
       "    </tr>\n",
       "    <tr>\n",
       "      <th>1</th>\n",
       "      <td>NZ_KB732999.1</td>\n",
       "      <td>1176</td>\n",
       "      <td>2342</td>\n",
       "      <td>-</td>\n",
       "      <td>WE1_RS22570</td>\n",
       "      <td>WP_001238646.1</td>\n",
       "      <td>plasmid-partitioning protein SopA</td>\n",
       "    </tr>\n",
       "    <tr>\n",
       "      <th>2</th>\n",
       "      <td>NZ_KB732999.1</td>\n",
       "      <td>2642</td>\n",
       "      <td>3339</td>\n",
       "      <td>-</td>\n",
       "      <td>WE1_RS0122580</td>\n",
       "      <td>WP_094096600.1</td>\n",
       "      <td>IS1-like element IS1A family transposase</td>\n",
       "    </tr>\n",
       "    <tr>\n",
       "      <th>3</th>\n",
       "      <td>NZ_KB732999.1</td>\n",
       "      <td>3397</td>\n",
       "      <td>3885</td>\n",
       "      <td>+</td>\n",
       "      <td>WE1_RS0122590</td>\n",
       "      <td>NaN</td>\n",
       "      <td>recombinase family protein (pseudogene)</td>\n",
       "    </tr>\n",
       "    <tr>\n",
       "      <th>4</th>\n",
       "      <td>NZ_KB732999.1</td>\n",
       "      <td>4210</td>\n",
       "      <td>5952</td>\n",
       "      <td>-</td>\n",
       "      <td>WE1_RS22565</td>\n",
       "      <td>WP_001523375.1</td>\n",
       "      <td>ATP-binding cassette domain-containing protein</td>\n",
       "    </tr>\n",
       "  </tbody>\n",
       "</table>\n",
       "</div>"
      ],
      "text/plain": [
       "      scaffoldId  begin   end strand       locusTag       proteinId  \\\n",
       "0  NZ_KB732999.1    205  1176      -    WE1_RS22575  WP_000817028.1   \n",
       "1  NZ_KB732999.1   1176  2342      -    WE1_RS22570  WP_001238646.1   \n",
       "2  NZ_KB732999.1   2642  3339      -  WE1_RS0122580  WP_094096600.1   \n",
       "3  NZ_KB732999.1   3397  3885      +  WE1_RS0122590             NaN   \n",
       "4  NZ_KB732999.1   4210  5952      -    WE1_RS22565  WP_001523375.1   \n",
       "\n",
       "                                               desc  \n",
       "0  ParB/RepB/Spo0J family plasmid partition protein  \n",
       "1                 plasmid-partitioning protein SopA  \n",
       "2          IS1-like element IS1A family transposase  \n",
       "3           recombinase family protein (pseudogene)  \n",
       "4    ATP-binding cassette domain-containing protein  "
      ]
     },
     "execution_count": 3,
     "metadata": {},
     "output_type": "execute_result"
    }
   ],
   "source": [
    "import glob\n",
    "\n",
    "directory_path = '/kaggle/input/e-coli-genomes/E coli dataset'\n",
    "\n",
    "df = pd.concat((pd.read_csv(f, delimiter='\\t') for f in glob.glob(os.path.join(directory_path, '*.tsv'))), ignore_index=True)\n",
    "df.head()"
   ]
  },
  {
   "cell_type": "markdown",
   "id": "1c64908a",
   "metadata": {
    "papermill": {
     "duration": 0.006724,
     "end_time": "2024-12-01T21:36:38.185709",
     "exception": false,
     "start_time": "2024-12-01T21:36:38.178985",
     "status": "completed"
    },
    "tags": []
   },
   "source": [
    " - create a left and right neighbor description column based on the descriptions of the row above and row below (all rows are in order)\n",
    " - drop unecessary columns that can confuse Gemini and use up tokens\n",
    " - randomly samples 1700 rows to use as the final dataset\n",
    "      - this was the maximum size of the dataframe that could be used as input\n",
    " - convert to csv"
   ]
  },
  {
   "cell_type": "code",
   "execution_count": 4,
   "id": "1c7b0ae5",
   "metadata": {
    "execution": {
     "iopub.execute_input": "2024-12-01T21:36:38.197709Z",
     "iopub.status.busy": "2024-12-01T21:36:38.196642Z",
     "iopub.status.idle": "2024-12-01T21:36:38.245577Z",
     "shell.execute_reply": "2024-12-01T21:36:38.244530Z"
    },
    "papermill": {
     "duration": 0.057135,
     "end_time": "2024-12-01T21:36:38.247860",
     "exception": false,
     "start_time": "2024-12-01T21:36:38.190725",
     "status": "completed"
    },
    "tags": []
   },
   "outputs": [
    {
     "data": {
      "text/html": [
       "<div>\n",
       "<style scoped>\n",
       "    .dataframe tbody tr th:only-of-type {\n",
       "        vertical-align: middle;\n",
       "    }\n",
       "\n",
       "    .dataframe tbody tr th {\n",
       "        vertical-align: top;\n",
       "    }\n",
       "\n",
       "    .dataframe thead th {\n",
       "        text-align: right;\n",
       "    }\n",
       "</style>\n",
       "<table border=\"1\" class=\"dataframe\">\n",
       "  <thead>\n",
       "    <tr style=\"text-align: right;\">\n",
       "      <th></th>\n",
       "      <th>proteinId</th>\n",
       "      <th>desc</th>\n",
       "      <th>left_neighbor_desc</th>\n",
       "      <th>right_neighbor_desc</th>\n",
       "    </tr>\n",
       "  </thead>\n",
       "  <tbody>\n",
       "    <tr>\n",
       "      <th>10298</th>\n",
       "      <td>WP_001300750.1</td>\n",
       "      <td>type II toxin-antitoxin system toxin RatA</td>\n",
       "      <td>RnfH family protein</td>\n",
       "      <td>SsrA-binding protein SmpB</td>\n",
       "    </tr>\n",
       "    <tr>\n",
       "      <th>9519</th>\n",
       "      <td>WP_000803804.1</td>\n",
       "      <td>branched chain amino acid ABC transporter perm...</td>\n",
       "      <td>high-affinity branched-chain amino acid ABC tr...</td>\n",
       "      <td>high-affinity branched-chain amino acid ABC tr...</td>\n",
       "    </tr>\n",
       "    <tr>\n",
       "      <th>23223</th>\n",
       "      <td>WP_000227926.1</td>\n",
       "      <td>bifunctional 3-hydroxydecanoyl-ACP dehydratase...</td>\n",
       "      <td>Lon protease family protein</td>\n",
       "      <td>ribosome modulation factor</td>\n",
       "    </tr>\n",
       "    <tr>\n",
       "      <th>51193</th>\n",
       "      <td>WP_000090998.1</td>\n",
       "      <td>phage tail tube protein</td>\n",
       "      <td>phage tail sheath subtilisin-like domain-conta...</td>\n",
       "      <td>phage tail assembly protein</td>\n",
       "    </tr>\n",
       "    <tr>\n",
       "      <th>58657</th>\n",
       "      <td>WP_000242755.1</td>\n",
       "      <td>cAMP-activated global transcriptional regulato...</td>\n",
       "      <td>OsmC family protein</td>\n",
       "      <td>YccS/YhfK family putative transporter</td>\n",
       "    </tr>\n",
       "  </tbody>\n",
       "</table>\n",
       "</div>"
      ],
      "text/plain": [
       "            proteinId                                               desc  \\\n",
       "10298  WP_001300750.1          type II toxin-antitoxin system toxin RatA   \n",
       "9519   WP_000803804.1  branched chain amino acid ABC transporter perm...   \n",
       "23223  WP_000227926.1  bifunctional 3-hydroxydecanoyl-ACP dehydratase...   \n",
       "51193  WP_000090998.1                            phage tail tube protein   \n",
       "58657  WP_000242755.1  cAMP-activated global transcriptional regulato...   \n",
       "\n",
       "                                      left_neighbor_desc  \\\n",
       "10298                                RnfH family protein   \n",
       "9519   high-affinity branched-chain amino acid ABC tr...   \n",
       "23223                        Lon protease family protein   \n",
       "51193  phage tail sheath subtilisin-like domain-conta...   \n",
       "58657                                OsmC family protein   \n",
       "\n",
       "                                     right_neighbor_desc  \n",
       "10298                          SsrA-binding protein SmpB  \n",
       "9519   high-affinity branched-chain amino acid ABC tr...  \n",
       "23223                         ribosome modulation factor  \n",
       "51193                        phage tail assembly protein  \n",
       "58657              YccS/YhfK family putative transporter  "
      ]
     },
     "execution_count": 4,
     "metadata": {},
     "output_type": "execute_result"
    }
   ],
   "source": [
    "import pandas as pd\n",
    "import os\n",
    "\n",
    "df[\"left_neighbor_desc\"] = df[\"desc\"].shift(1)\n",
    "df[\"right_neighbor_desc\"] = df[\"desc\"].shift(-1)\n",
    "sampleddf = df.sample(1700)\n",
    "droppeddf = sampleddf.drop(columns=[\"scaffoldId\", \"locusTag\", \"strand\", \"begin\", \"end\"], axis=1)\n",
    "droppeddf.to_csv(\"/kaggle/working/sample.csv\", index=False)\n",
    "droppeddf.head()\n",
    "\n"
   ]
  },
  {
   "cell_type": "markdown",
   "id": "87c4aeff",
   "metadata": {
    "papermill": {
     "duration": 0.004678,
     "end_time": "2024-12-01T21:36:38.257323",
     "exception": false,
     "start_time": "2024-12-01T21:36:38.252645",
     "status": "completed"
    },
    "tags": []
   },
   "source": [
    " - calculates the size of the dataset csv to be used as input"
   ]
  },
  {
   "cell_type": "code",
   "execution_count": 5,
   "id": "9dc77dbc",
   "metadata": {
    "execution": {
     "iopub.execute_input": "2024-12-01T21:36:38.269239Z",
     "iopub.status.busy": "2024-12-01T21:36:38.268109Z",
     "iopub.status.idle": "2024-12-01T21:36:38.280234Z",
     "shell.execute_reply": "2024-12-01T21:36:38.278970Z"
    },
    "papermill": {
     "duration": 0.020515,
     "end_time": "2024-12-01T21:36:38.282615",
     "exception": false,
     "start_time": "2024-12-01T21:36:38.262100",
     "status": "completed"
    },
    "tags": []
   },
   "outputs": [
    {
     "name": "stdout",
     "output_type": "stream",
     "text": [
      "Size of the CSV: 0.594808 mb\n"
     ]
    }
   ],
   "source": [
    "import sys\n",
    "\n",
    "size = sys.getsizeof(droppeddf)\n",
    "print(f\"Size of the CSV: {size/1000000} mb\")"
   ]
  },
  {
   "cell_type": "markdown",
   "id": "c5f49730",
   "metadata": {
    "papermill": {
     "duration": 0.00647,
     "end_time": "2024-12-01T21:36:38.294017",
     "exception": false,
     "start_time": "2024-12-01T21:36:38.287547",
     "status": "completed"
    },
    "tags": []
   },
   "source": [
    "# Defining the state object"
   ]
  },
  {
   "cell_type": "markdown",
   "id": "ecc83d27",
   "metadata": {
    "papermill": {
     "duration": 0.005002,
     "end_time": "2024-12-01T21:36:38.306683",
     "exception": false,
     "start_time": "2024-12-01T21:36:38.301681",
     "status": "completed"
    },
    "tags": []
   },
   "source": [
    " - use LangGraph to initialize the ConversationState. This keeps track of conversation history between the chatbot node and the human node.\n",
    "\n",
    " - messages: A list of the messages between both the chatbot and the user\n",
    " \n",
    " - finished: whether the conversation is finished or not"
   ]
  },
  {
   "cell_type": "code",
   "execution_count": 6,
   "id": "37e5f4a4",
   "metadata": {
    "execution": {
     "iopub.execute_input": "2024-12-01T21:36:38.322167Z",
     "iopub.status.busy": "2024-12-01T21:36:38.321601Z",
     "iopub.status.idle": "2024-12-01T21:36:39.278162Z",
     "shell.execute_reply": "2024-12-01T21:36:39.276999Z"
    },
    "papermill": {
     "duration": 0.967815,
     "end_time": "2024-12-01T21:36:39.280645",
     "exception": false,
     "start_time": "2024-12-01T21:36:38.312830",
     "status": "completed"
    },
    "tags": []
   },
   "outputs": [],
   "source": [
    "from typing import Annotated, List, Dict, Any\n",
    "from typing_extensions import TypedDict\n",
    "import csv\n",
    "\n",
    "from langgraph.graph.message import add_messages\n",
    "\n",
    "class ConversationState(TypedDict): #object state in the form of a dictionary that's passed around to the nodes. Keeps track of conversation history\n",
    "    messages: Annotated[list, add_messages]\n",
    "        \n",
    "    finished: bool"
   ]
  },
  {
   "cell_type": "markdown",
   "id": "ec5c51f9",
   "metadata": {
    "papermill": {
     "duration": 0.004543,
     "end_time": "2024-12-01T21:36:39.290261",
     "exception": false,
     "start_time": "2024-12-01T21:36:39.285718",
     "status": "completed"
    },
    "tags": []
   },
   "source": [
    " - Instructions for how Gemini should respond to the user. Also appends the dataset to the end of instructions."
   ]
  },
  {
   "cell_type": "code",
   "execution_count": 7,
   "id": "e42498ec",
   "metadata": {
    "execution": {
     "iopub.execute_input": "2024-12-01T21:36:39.301614Z",
     "iopub.status.busy": "2024-12-01T21:36:39.301157Z",
     "iopub.status.idle": "2024-12-01T21:36:39.350805Z",
     "shell.execute_reply": "2024-12-01T21:36:39.349394Z"
    },
    "papermill": {
     "duration": 0.057998,
     "end_time": "2024-12-01T21:36:39.353048",
     "exception": false,
     "start_time": "2024-12-01T21:36:39.295050",
     "status": "completed"
    },
    "tags": []
   },
   "outputs": [],
   "source": [
    "INSTRUCTIONS = (\"system\",\n",
    "\"\"\"You are given genes from the E coli genome that have been classified in the Genome Taxonomy Database.This dataset you are given\n",
    "have columns as follows:\n",
    "\n",
    "'proteinID': Unique identifier given to every protein in the NCBI.\n",
    "'desc': the function the gene encodes for.\n",
    "'left_neighbor_desc': The description of the left neighbor of the gene in question.\n",
    "'right_neighbor_desc': The description of the right neighbor of the gene in question.\n",
    "\n",
    "A user is going to give you a putative or hypothetical gene and the description of its left and right neighbor. Your job is to determine what the\n",
    "genes encodes for, based on the examples given to you. Give the user the reasoning behind your conclusion, and cite specific examples from the dataset. \n",
    "If the user asks follow-up questions, limit your response to a succinct paragraph.\"\"\")\n",
    "                \n",
    "welcome_message=\"\"\"Hello! My expertise is in the E coli genome. If you type in a putative/unidentified gene, but know the function of its neighbors, I can tell you\n",
    "what I think is it's function. Type q to quit. How can I help?\"\"\"\n",
    "\n",
    "INSTRUCTIONS = INSTRUCTIONS[:1] + (INSTRUCTIONS[1] + droppeddf.to_string(),)\n",
    "\n"
   ]
  },
  {
   "cell_type": "code",
   "execution_count": 8,
   "id": "741e0eec",
   "metadata": {
    "execution": {
     "iopub.execute_input": "2024-12-01T21:36:39.364409Z",
     "iopub.status.busy": "2024-12-01T21:36:39.364016Z",
     "iopub.status.idle": "2024-12-01T21:36:39.769218Z",
     "shell.execute_reply": "2024-12-01T21:36:39.768075Z"
    },
    "papermill": {
     "duration": 0.413902,
     "end_time": "2024-12-01T21:36:39.771761",
     "exception": false,
     "start_time": "2024-12-01T21:36:39.357859",
     "status": "completed"
    },
    "tags": []
   },
   "outputs": [],
   "source": [
    "from langgraph.graph import StateGraph, START, END\n",
    "from langchain_google_genai import ChatGoogleGenerativeAI\n",
    "\n",
    "# Create the model\n",
    "generation_config = {\n",
    "  \"temperature\": 1,\n",
    "  \"top_p\": 0.95,\n",
    "  \"top_k\": 64,\n",
    "  \"max_output_tokens\": 8192,\n",
    "  \"response_mime_type\": \"text/plain\",\n",
    "}\n",
    "\n",
    "model = ChatGoogleGenerativeAI(model=\"gemini-1.5-flash-latest\",\n",
    "  generation_config=generation_config)\n",
    "\n"
   ]
  },
  {
   "cell_type": "markdown",
   "id": "faf10ced",
   "metadata": {
    "papermill": {
     "duration": 0.004519,
     "end_time": "2024-12-01T21:36:39.781288",
     "exception": false,
     "start_time": "2024-12-01T21:36:39.776769",
     "status": "completed"
    },
    "tags": []
   },
   "source": [
    "# Adding a human node"
   ]
  },
  {
   "cell_type": "markdown",
   "id": "d3e308ce",
   "metadata": {
    "papermill": {
     "duration": 0.004376,
     "end_time": "2024-12-01T21:36:39.790407",
     "exception": false,
     "start_time": "2024-12-01T21:36:39.786031",
     "status": "completed"
    },
    "tags": []
   },
   "source": [
    " - human node: prints the model's last message, asks for the user's input, and checks if the user typed q (quits the conversation)\n",
    " - chatbot_with_welcome_message: either asks model to produce another response, or outputs the welcome message\n",
    " - exit_human_node: returns the end node if the conversation is finished"
   ]
  },
  {
   "cell_type": "code",
   "execution_count": 9,
   "id": "0eaede72",
   "metadata": {
    "execution": {
     "iopub.execute_input": "2024-12-01T21:36:39.801781Z",
     "iopub.status.busy": "2024-12-01T21:36:39.801396Z",
     "iopub.status.idle": "2024-12-01T21:36:39.813877Z",
     "shell.execute_reply": "2024-12-01T21:36:39.812727Z"
    },
    "papermill": {
     "duration": 0.021258,
     "end_time": "2024-12-01T21:36:39.816327",
     "exception": false,
     "start_time": "2024-12-01T21:36:39.795069",
     "status": "completed"
    },
    "tags": []
   },
   "outputs": [],
   "source": [
    "from langchain_core.messages.ai import AIMessage\n",
    "from typing import Literal\n",
    "\n",
    "\n",
    "def human_node(state: ConversationState) -> ConversationState:\n",
    "    last_message = state[\"messages\"][-1]\n",
    "    print(\"\\n\", \"Model: \", last_message.content)\n",
    "    \n",
    "    user_input = input(\"You: \")\n",
    "    \n",
    "    if user_input in {\"q\", \"quit\"}:\n",
    "        state[\"finished\"] = True\n",
    "    \n",
    "    return state | {\"messages\": [(\"user\", user_input)]}\n",
    "\n",
    "\n",
    "def chatbot_with_welcome_message(state: ConversationState) -> ConversationState:\n",
    "    if state[\"messages\"]: \n",
    "        new_output = model.invoke([INSTRUCTIONS] + state[\"messages\"])\n",
    "    else:\n",
    "        new_output = AIMessage(content=welcome_message)\n",
    "    return state | {\"messages\": [new_output]}\n",
    "\n",
    "\n",
    "def exit_human_node(state: ConversationState) -> Literal[\"chatbot\", \"__end__\"]:\n",
    "    if state.get(\"finished\", False):\n",
    "        return END\n",
    "    else:\n",
    "        return \"chatbot\"\n",
    "\n",
    "#builds the ConversationState graph\n",
    "graph_builder = StateGraph(ConversationState)\n",
    "graph_builder.add_node(\"chatbot\", chatbot_with_welcome_message)\n",
    "graph_builder.add_node(\"human\", human_node)\n",
    "graph_builder.add_edge(START, \"chatbot\")\n",
    "graph_builder.add_edge(\"chatbot\", \"human\")\n",
    "\n",
    "#this conditional edge either creates an edge between the human back to the chatbot, or from the human to the end node\n",
    "graph_builder.add_conditional_edges(\"human\", exit_human_node)\n",
    "\n",
    "chat_graph = graph_builder.compile()\n",
    "\n",
    "#uncomment to start chat\n",
    "#state = chat_graph.invoke({\"messages\": []})\n"
   ]
  },
  {
   "cell_type": "code",
   "execution_count": null,
   "id": "c17075b0",
   "metadata": {
    "papermill": {
     "duration": 0.004477,
     "end_time": "2024-12-01T21:36:39.825778",
     "exception": false,
     "start_time": "2024-12-01T21:36:39.821301",
     "status": "completed"
    },
    "tags": []
   },
   "outputs": [],
   "source": []
  }
 ],
 "metadata": {
  "kaggle": {
   "accelerator": "none",
   "dataSources": [
    {
     "databundleVersionId": 9881586,
     "sourceId": 83735,
     "sourceType": "competition"
    },
    {
     "datasetId": 6072477,
     "sourceId": 9888111,
     "sourceType": "datasetVersion"
    }
   ],
   "dockerImageVersionId": 30786,
   "isGpuEnabled": false,
   "isInternetEnabled": true,
   "language": "python",
   "sourceType": "notebook"
  },
  "kernelspec": {
   "display_name": "Python 3",
   "language": "python",
   "name": "python3"
  },
  "language_info": {
   "codemirror_mode": {
    "name": "ipython",
    "version": 3
   },
   "file_extension": ".py",
   "mimetype": "text/x-python",
   "name": "python",
   "nbconvert_exporter": "python",
   "pygments_lexer": "ipython3",
   "version": "3.10.14"
  },
  "papermill": {
   "default_parameters": {},
   "duration": 51.762999,
   "end_time": "2024-12-01T21:36:40.753211",
   "environment_variables": {},
   "exception": null,
   "input_path": "__notebook__.ipynb",
   "output_path": "__notebook__.ipynb",
   "parameters": {},
   "start_time": "2024-12-01T21:35:48.990212",
   "version": "2.6.0"
  }
 },
 "nbformat": 4,
 "nbformat_minor": 5
}
