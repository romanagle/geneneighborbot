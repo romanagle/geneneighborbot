{
 "cells": [
  {
   "cell_type": "code",
   "execution_count": 1,
   "id": "ec4ecbb9",
   "metadata": {
    "_cell_guid": "b1076dfc-b9ad-4769-8c92-a6c4dae69d19",
    "_uuid": "8f2839f25d086af736a60e9eeb907d3b93b6e0e5",
    "execution": {
     "iopub.execute_input": "2024-11-21T16:52:14.720594Z",
     "iopub.status.busy": "2024-11-21T16:52:14.719519Z",
     "iopub.status.idle": "2024-11-21T16:52:15.702306Z",
     "shell.execute_reply": "2024-11-21T16:52:15.701181Z"
    },
    "papermill": {
     "duration": 0.992245,
     "end_time": "2024-11-21T16:52:15.705378",
     "exception": false,
     "start_time": "2024-11-21T16:52:14.713133",
     "status": "completed"
    },
    "tags": []
   },
   "outputs": [
    {
     "name": "stdout",
     "output_type": "stream",
     "text": [
      "/kaggle/input/e-coli-genomes/E coli dataset/genes_GCF_000352125.1.tsv\n",
      "/kaggle/input/e-coli-genomes/E coli dataset/genes_GCF_900457215.1.tsv\n",
      "/kaggle/input/e-coli-genomes/E coli dataset/genes_GCF_013186525.1.tsv\n",
      "/kaggle/input/e-coli-genomes/E coli dataset/genes_GCF_002965625.1.tsv\n",
      "/kaggle/input/e-coli-genomes/E coli dataset/genes_GCF_003697165.2 (1).tsv\n",
      "/kaggle/input/e-coli-genomes/E coli dataset/genes_GCF_002993265.1.tsv\n",
      "/kaggle/input/e-coli-genomes/E coli dataset/genes_GCF_022972535.1.tsv\n",
      "/kaggle/input/e-coli-genomes/E coli dataset/genes_GCF_900499355.1.tsv\n",
      "/kaggle/input/e-coli-genomes/E coli dataset/genes_GCF_910664935.1.tsv\n",
      "/kaggle/input/e-coli-genomes/E coli dataset/genes_GCF_023276905.1.tsv\n",
      "/kaggle/input/e-coli-genomes/E coli dataset/genes_GCF_000690815.1.tsv\n",
      "/kaggle/input/e-coli-genomes/E coli dataset/genes_GCF_009899265.1.tsv\n",
      "/kaggle/input/e-coli-genomes/E coli dataset/genes_GCF_001912235.1.tsv\n",
      "/kaggle/input/e-coli-genomes/E coli dataset/genes_GCF_019269175.1.tsv\n",
      "/kaggle/input/e-coli-genomes/E coli dataset/genes_GCF_009899475.1.tsv\n",
      "/kaggle/input/e-coli-genomes/E coli dataset/genes_GCF_910664785.1.tsv\n",
      "/kaggle/input/e-coli-genomes/E coli dataset/genes_GCF_002949675.1.tsv\n",
      "/kaggle/input/e-coli-genomes/E coli dataset/genes_GCF_011881725.1.tsv\n",
      "/kaggle/input/e-coli-genomes/E coli dataset/genes_GCF_000017985.1.tsv\n",
      "/kaggle/input/e-coli-genomes/E coli dataset/genes_GCF_013112335.1.tsv\n",
      "/kaggle/input/e-coli-genomes/E coli dataset/genes_GCF_021697395.1.tsv\n",
      "/kaggle/input/e-coli-genomes/E coli dataset/genes_GCF_000812765.1.tsv\n",
      "/kaggle/input/gemini-long-context/submission_instructions.txt\n"
     ]
    }
   ],
   "source": [
    "# This Python 3 environment comes with many helpful analytics libraries installed\n",
    "# It is defined by the kaggle/python Docker image: https://github.com/kaggle/docker-python\n",
    "# For example, here's several helpful packages to load\n",
    "\n",
    "import numpy as np # linear algebra\n",
    "import pandas as pd # data processing, CSV file I/O (e.g. pd.read_csv)\n",
    "\n",
    "# Input data files are available in the read-only \"../input/\" directory\n",
    "# For example, running this (by clicking run or pressing Shift+Enter) will list all files under the input directory\n",
    "\n",
    "import os\n",
    "for dirname, _, filenames in os.walk('/kaggle/input'):\n",
    "    for filename in filenames:\n",
    "        print(os.path.join(dirname, filename))\n",
    "\n",
    "# You can write up to 20GB to the current directory (/kaggle/working/) that gets preserved as output when you create a version using \"Save & Run All\" \n",
    "# You can also write temporary files to /kaggle/temp/, but they won't be saved outside of the current session"
   ]
  },
  {
   "cell_type": "markdown",
   "id": "a2cf57f8",
   "metadata": {
    "papermill": {
     "duration": 0.003973,
     "end_time": "2024-11-21T16:52:15.714267",
     "exception": false,
     "start_time": "2024-11-21T16:52:15.710294",
     "status": "completed"
    },
    "tags": []
   },
   "source": [
    "# Installation"
   ]
  },
  {
   "cell_type": "code",
   "execution_count": 2,
   "id": "76ad8477",
   "metadata": {
    "execution": {
     "iopub.execute_input": "2024-11-21T16:52:15.724926Z",
     "iopub.status.busy": "2024-11-21T16:52:15.723712Z",
     "iopub.status.idle": "2024-11-21T16:53:00.490905Z",
     "shell.execute_reply": "2024-11-21T16:53:00.488946Z"
    },
    "papermill": {
     "duration": 44.775661,
     "end_time": "2024-11-21T16:53:00.493938",
     "exception": false,
     "start_time": "2024-11-21T16:52:15.718277",
     "status": "completed"
    },
    "tags": []
   },
   "outputs": [
    {
     "name": "stdout",
     "output_type": "stream",
     "text": [
      "\u001b[31mERROR: pip's dependency resolver does not currently take into account all the packages that are installed. This behaviour is the source of the following dependency conflicts.\r\n",
      "google-cloud-bigquery 2.34.4 requires packaging<22.0dev,>=14.3, but you have packaging 24.2 which is incompatible.\r\n",
      "jupyterlab 4.2.5 requires jupyter-lsp>=2.0.0, but you have jupyter-lsp 1.5.1 which is incompatible.\r\n",
      "jupyterlab-lsp 5.1.0 requires jupyter-lsp>=2.0.0, but you have jupyter-lsp 1.5.1 which is incompatible.\r\n",
      "kfp 2.5.0 requires google-cloud-storage<3,>=2.2.1, but you have google-cloud-storage 1.44.0 which is incompatible.\r\n",
      "kfp 2.5.0 requires requests-toolbelt<1,>=0.8.0, but you have requests-toolbelt 1.0.0 which is incompatible.\r\n",
      "libpysal 4.9.2 requires shapely>=2.0.1, but you have shapely 1.8.5.post1 which is incompatible.\r\n",
      "thinc 8.3.2 requires numpy<2.1.0,>=2.0.0; python_version >= \"3.9\", but you have numpy 1.26.4 which is incompatible.\r\n",
      "ydata-profiling 4.10.0 requires scipy<1.14,>=1.4.1, but you have scipy 1.14.1 which is incompatible.\u001b[0m\u001b[31m\r\n",
      "\u001b[0mNote: you may need to restart the kernel to use updated packages.\n"
     ]
    }
   ],
   "source": [
    "#Installation\n",
    "!pip install -q -U google-generativeai\n",
    "%pip install -qU 'langgraph==0.2.45' 'langchain-google-genai==2.0.4'\n",
    "\n",
    "\n",
    "import google.generativeai as genai\n",
    "from kaggle_secrets import UserSecretsClient\n",
    "\n",
    "#Set API key and generate model\n",
    "GOOGLE_API_KEY = UserSecretsClient().get_secret(\"GEMINI_KEY\")\n",
    "os.environ[\"GOOGLE_API_KEY\"] = GOOGLE_API_KEY"
   ]
  },
  {
   "cell_type": "markdown",
   "id": "894340a9",
   "metadata": {
    "papermill": {
     "duration": 0.004,
     "end_time": "2024-11-21T16:53:00.502591",
     "exception": false,
     "start_time": "2024-11-21T16:53:00.498591",
     "status": "completed"
    },
    "tags": []
   },
   "source": [
    "# Preprocessing"
   ]
  },
  {
   "cell_type": "code",
   "execution_count": 3,
   "id": "b0e4acfb",
   "metadata": {
    "execution": {
     "iopub.execute_input": "2024-11-21T16:53:00.514293Z",
     "iopub.status.busy": "2024-11-21T16:53:00.513669Z",
     "iopub.status.idle": "2024-11-21T16:53:01.169264Z",
     "shell.execute_reply": "2024-11-21T16:53:01.168151Z"
    },
    "papermill": {
     "duration": 0.664766,
     "end_time": "2024-11-21T16:53:01.171825",
     "exception": false,
     "start_time": "2024-11-21T16:53:00.507059",
     "status": "completed"
    },
    "tags": []
   },
   "outputs": [
    {
     "data": {
      "text/html": [
       "<div>\n",
       "<style scoped>\n",
       "    .dataframe tbody tr th:only-of-type {\n",
       "        vertical-align: middle;\n",
       "    }\n",
       "\n",
       "    .dataframe tbody tr th {\n",
       "        vertical-align: top;\n",
       "    }\n",
       "\n",
       "    .dataframe thead th {\n",
       "        text-align: right;\n",
       "    }\n",
       "</style>\n",
       "<table border=\"1\" class=\"dataframe\">\n",
       "  <thead>\n",
       "    <tr style=\"text-align: right;\">\n",
       "      <th></th>\n",
       "      <th>scaffoldId</th>\n",
       "      <th>begin</th>\n",
       "      <th>end</th>\n",
       "      <th>strand</th>\n",
       "      <th>locusTag</th>\n",
       "      <th>proteinId</th>\n",
       "      <th>desc</th>\n",
       "    </tr>\n",
       "  </thead>\n",
       "  <tbody>\n",
       "    <tr>\n",
       "      <th>0</th>\n",
       "      <td>NZ_KB732999.1</td>\n",
       "      <td>205</td>\n",
       "      <td>1176</td>\n",
       "      <td>-</td>\n",
       "      <td>WE1_RS22575</td>\n",
       "      <td>WP_000817028.1</td>\n",
       "      <td>ParB/RepB/Spo0J family plasmid partition protein</td>\n",
       "    </tr>\n",
       "    <tr>\n",
       "      <th>1</th>\n",
       "      <td>NZ_KB732999.1</td>\n",
       "      <td>1176</td>\n",
       "      <td>2342</td>\n",
       "      <td>-</td>\n",
       "      <td>WE1_RS22570</td>\n",
       "      <td>WP_001238646.1</td>\n",
       "      <td>plasmid-partitioning protein SopA</td>\n",
       "    </tr>\n",
       "    <tr>\n",
       "      <th>2</th>\n",
       "      <td>NZ_KB732999.1</td>\n",
       "      <td>2642</td>\n",
       "      <td>3339</td>\n",
       "      <td>-</td>\n",
       "      <td>WE1_RS0122580</td>\n",
       "      <td>WP_094096600.1</td>\n",
       "      <td>IS1-like element IS1A family transposase</td>\n",
       "    </tr>\n",
       "    <tr>\n",
       "      <th>3</th>\n",
       "      <td>NZ_KB732999.1</td>\n",
       "      <td>3397</td>\n",
       "      <td>3885</td>\n",
       "      <td>+</td>\n",
       "      <td>WE1_RS0122590</td>\n",
       "      <td>NaN</td>\n",
       "      <td>recombinase family protein (pseudogene)</td>\n",
       "    </tr>\n",
       "    <tr>\n",
       "      <th>4</th>\n",
       "      <td>NZ_KB732999.1</td>\n",
       "      <td>4210</td>\n",
       "      <td>5952</td>\n",
       "      <td>-</td>\n",
       "      <td>WE1_RS22565</td>\n",
       "      <td>WP_001523375.1</td>\n",
       "      <td>ATP-binding cassette domain-containing protein</td>\n",
       "    </tr>\n",
       "  </tbody>\n",
       "</table>\n",
       "</div>"
      ],
      "text/plain": [
       "      scaffoldId  begin   end strand       locusTag       proteinId  \\\n",
       "0  NZ_KB732999.1    205  1176      -    WE1_RS22575  WP_000817028.1   \n",
       "1  NZ_KB732999.1   1176  2342      -    WE1_RS22570  WP_001238646.1   \n",
       "2  NZ_KB732999.1   2642  3339      -  WE1_RS0122580  WP_094096600.1   \n",
       "3  NZ_KB732999.1   3397  3885      +  WE1_RS0122590             NaN   \n",
       "4  NZ_KB732999.1   4210  5952      -    WE1_RS22565  WP_001523375.1   \n",
       "\n",
       "                                               desc  \n",
       "0  ParB/RepB/Spo0J family plasmid partition protein  \n",
       "1                 plasmid-partitioning protein SopA  \n",
       "2          IS1-like element IS1A family transposase  \n",
       "3           recombinase family protein (pseudogene)  \n",
       "4    ATP-binding cassette domain-containing protein  "
      ]
     },
     "execution_count": 3,
     "metadata": {},
     "output_type": "execute_result"
    }
   ],
   "source": [
    "import glob\n",
    "\n",
    "directory_path = '/kaggle/input/e-coli-genomes/E coli dataset'\n",
    "\n",
    "df = pd.concat((pd.read_csv(f, delimiter='\\t') for f in glob.glob(os.path.join(directory_path, '*.tsv'))), ignore_index=True)\n",
    "df.head()"
   ]
  },
  {
   "cell_type": "code",
   "execution_count": 4,
   "id": "916835dd",
   "metadata": {
    "execution": {
     "iopub.execute_input": "2024-11-21T16:53:01.182302Z",
     "iopub.status.busy": "2024-11-21T16:53:01.181915Z",
     "iopub.status.idle": "2024-11-21T16:53:01.233478Z",
     "shell.execute_reply": "2024-11-21T16:53:01.232143Z"
    },
    "papermill": {
     "duration": 0.059797,
     "end_time": "2024-11-21T16:53:01.236122",
     "exception": false,
     "start_time": "2024-11-21T16:53:01.176325",
     "status": "completed"
    },
    "tags": []
   },
   "outputs": [
    {
     "data": {
      "text/html": [
       "<div>\n",
       "<style scoped>\n",
       "    .dataframe tbody tr th:only-of-type {\n",
       "        vertical-align: middle;\n",
       "    }\n",
       "\n",
       "    .dataframe tbody tr th {\n",
       "        vertical-align: top;\n",
       "    }\n",
       "\n",
       "    .dataframe thead th {\n",
       "        text-align: right;\n",
       "    }\n",
       "</style>\n",
       "<table border=\"1\" class=\"dataframe\">\n",
       "  <thead>\n",
       "    <tr style=\"text-align: right;\">\n",
       "      <th></th>\n",
       "      <th>proteinId</th>\n",
       "      <th>desc</th>\n",
       "      <th>left_neighbor_desc</th>\n",
       "      <th>right_neighbor_desc</th>\n",
       "    </tr>\n",
       "  </thead>\n",
       "  <tbody>\n",
       "    <tr>\n",
       "      <th>90235</th>\n",
       "      <td>WP_012775982.1</td>\n",
       "      <td>hypothetical protein</td>\n",
       "      <td>DUF968 domain-containing protein</td>\n",
       "      <td>protein Rem</td>\n",
       "    </tr>\n",
       "    <tr>\n",
       "      <th>10026</th>\n",
       "      <td>WP_174246215.1</td>\n",
       "      <td>MFS transporter</td>\n",
       "      <td>IS6-like element IS26 family transposase</td>\n",
       "      <td>IS3-like element IS600 family transposase (pse...</td>\n",
       "    </tr>\n",
       "    <tr>\n",
       "      <th>77194</th>\n",
       "      <td>WP_000638141.1</td>\n",
       "      <td>AAA family ATPase</td>\n",
       "      <td>RNA ligase family protein</td>\n",
       "      <td>S-ribosylhomocysteine lyase</td>\n",
       "    </tr>\n",
       "    <tr>\n",
       "      <th>55605</th>\n",
       "      <td>WP_105267144.1</td>\n",
       "      <td>glutathione-regulated potassium-efflux system ...</td>\n",
       "      <td>type 3 dihydrofolate reductase</td>\n",
       "      <td>glutathione-regulated potassium-efflux system ...</td>\n",
       "    </tr>\n",
       "    <tr>\n",
       "      <th>20803</th>\n",
       "      <td>WP_000633583.1</td>\n",
       "      <td>pirin family protein</td>\n",
       "      <td>protein YhaL</td>\n",
       "      <td>DNA-binding transcriptional regulator YhaJ</td>\n",
       "    </tr>\n",
       "  </tbody>\n",
       "</table>\n",
       "</div>"
      ],
      "text/plain": [
       "            proteinId                                               desc  \\\n",
       "90235  WP_012775982.1                               hypothetical protein   \n",
       "10026  WP_174246215.1                                    MFS transporter   \n",
       "77194  WP_000638141.1                                  AAA family ATPase   \n",
       "55605  WP_105267144.1  glutathione-regulated potassium-efflux system ...   \n",
       "20803  WP_000633583.1                               pirin family protein   \n",
       "\n",
       "                             left_neighbor_desc  \\\n",
       "90235          DUF968 domain-containing protein   \n",
       "10026  IS6-like element IS26 family transposase   \n",
       "77194                 RNA ligase family protein   \n",
       "55605            type 3 dihydrofolate reductase   \n",
       "20803                              protein YhaL   \n",
       "\n",
       "                                     right_neighbor_desc  \n",
       "90235                                        protein Rem  \n",
       "10026  IS3-like element IS600 family transposase (pse...  \n",
       "77194                        S-ribosylhomocysteine lyase  \n",
       "55605  glutathione-regulated potassium-efflux system ...  \n",
       "20803         DNA-binding transcriptional regulator YhaJ  "
      ]
     },
     "execution_count": 4,
     "metadata": {},
     "output_type": "execute_result"
    }
   ],
   "source": [
    "import pandas as pd\n",
    "import os\n",
    "\n",
    "\n",
    "#df[\"left_neighbor_id\"] = df[\"proteinId\"].shift(1)\n",
    "#df[\"right_neighbor_id\"] = df[\"proteinId\"].shift(-1)\n",
    "df[\"left_neighbor_desc\"] = df[\"desc\"].shift(1)\n",
    "df[\"right_neighbor_desc\"] = df[\"desc\"].shift(-1)\n",
    "sampleddf = df.sample(1700)\n",
    "droppeddf = sampleddf.drop(columns=[\"scaffoldId\", \"locusTag\", \"strand\", \"begin\", \"end\"], axis=1)\n",
    "droppeddf.to_csv(\"/kaggle/working/sample.csv\", index=False)\n",
    "droppeddf.head()\n",
    "\n"
   ]
  },
  {
   "cell_type": "code",
   "execution_count": 5,
   "id": "4e73845c",
   "metadata": {
    "execution": {
     "iopub.execute_input": "2024-11-21T16:53:01.248045Z",
     "iopub.status.busy": "2024-11-21T16:53:01.247637Z",
     "iopub.status.idle": "2024-11-21T16:53:01.261034Z",
     "shell.execute_reply": "2024-11-21T16:53:01.259783Z"
    },
    "papermill": {
     "duration": 0.022375,
     "end_time": "2024-11-21T16:53:01.263904",
     "exception": false,
     "start_time": "2024-11-21T16:53:01.241529",
     "status": "completed"
    },
    "tags": []
   },
   "outputs": [
    {
     "name": "stdout",
     "output_type": "stream",
     "text": [
      "Size of the JSON object: 0.593526 mb\n"
     ]
    }
   ],
   "source": [
    "import glob\n",
    "import sys\n",
    "import json\n",
    "#df = pd.concat((pd.read_csv(f) for f in glob.glob(os.path.join('/kaggle/working/', '*.csv'))), ignore_index=True)\n",
    "#onesetdf = pd.read_csv('/kaggle/working/sample.csv')\n",
    "'''\n",
    "\n",
    "json_data = droppeddf.to_json(orient=\"records\")\n",
    "\n",
    "with open('/kaggle/working/oneset.json', 'w') as file:\n",
    "    json.dump(json_data, file)\n",
    "size = sys.getsizeof(json_data)\n",
    "print(f\"Size of the JSON object: {size/1000000} mb\")'''\n",
    "\n",
    "size = sys.getsizeof(droppeddf)\n",
    "print(f\"Size of the JSON object: {size/1000000} mb\")"
   ]
  },
  {
   "cell_type": "markdown",
   "id": "67cbecb6",
   "metadata": {
    "papermill": {
     "duration": 0.004561,
     "end_time": "2024-11-21T16:53:01.274352",
     "exception": false,
     "start_time": "2024-11-21T16:53:01.269791",
     "status": "completed"
    },
    "tags": []
   },
   "source": [
    "# Defining the state object"
   ]
  },
  {
   "cell_type": "code",
   "execution_count": 6,
   "id": "673f9637",
   "metadata": {
    "execution": {
     "iopub.execute_input": "2024-11-21T16:53:01.285784Z",
     "iopub.status.busy": "2024-11-21T16:53:01.285358Z",
     "iopub.status.idle": "2024-11-21T16:53:02.219676Z",
     "shell.execute_reply": "2024-11-21T16:53:02.218521Z"
    },
    "papermill": {
     "duration": 0.943003,
     "end_time": "2024-11-21T16:53:02.222196",
     "exception": false,
     "start_time": "2024-11-21T16:53:01.279193",
     "status": "completed"
    },
    "tags": []
   },
   "outputs": [],
   "source": [
    "from typing import Annotated, List, Dict, Any\n",
    "from typing_extensions import TypedDict\n",
    "import csv\n",
    "\n",
    "from langgraph.graph.message import add_messages\n",
    "\n",
    "class ConversationState(TypedDict): #object state in the form of a dictionary that's passed around to the nodes. Keeps track of conversation history\n",
    "    messages: Annotated[list, add_messages]\n",
    "        \n",
    "    sample_csv: List[Dict[str, Any]]\n",
    "    \n",
    "    gene: str #the gene in question that the user is asking about?\n",
    "        \n",
    "    finished: bool"
   ]
  },
  {
   "cell_type": "code",
   "execution_count": 7,
   "id": "027da32b",
   "metadata": {
    "execution": {
     "iopub.execute_input": "2024-11-21T16:53:02.233562Z",
     "iopub.status.busy": "2024-11-21T16:53:02.233172Z",
     "iopub.status.idle": "2024-11-21T16:53:02.241452Z",
     "shell.execute_reply": "2024-11-21T16:53:02.240190Z"
    },
    "papermill": {
     "duration": 0.016696,
     "end_time": "2024-11-21T16:53:02.243862",
     "exception": false,
     "start_time": "2024-11-21T16:53:02.227166",
     "status": "completed"
    },
    "tags": []
   },
   "outputs": [],
   "source": [
    "def upload_to_gemini(path, mime_type=None):\n",
    "  \"\"\"Uploads the given file to Gemini.\n",
    "\n",
    "  See https://ai.google.dev/gemini-api/docs/prompting_with_media\n",
    "  \"\"\"\n",
    "  file = genai.upload_file(path, mime_type=mime_type)\n",
    "  print(f\"Uploaded file '{file.display_name}' as: {file.uri}\")\n",
    "  return file\n",
    "\n",
    "def wait_for_files_active(files):\n",
    "  \"\"\"Waits for the given files to be active.\n",
    "\n",
    "  Some files uploaded to the Gemini API need to be processed before they can be\n",
    "  used as prompt inputs. The status can be seen by querying the file's \"state\"\n",
    "  field.\n",
    "\n",
    "  This implementation uses a simple blocking polling loop. Production code\n",
    "  should probably employ a more sophisticated approach.\n",
    "  \"\"\"\n",
    "  print(\"Waiting for file processing...\")\n",
    "  for name in (file.name for file in files):\n",
    "    file = genai.get_file(name)\n",
    "    while file.state.name == \"PROCESSING\":\n",
    "      print(\".\", end=\"\", flush=True)\n",
    "      time.sleep(10)\n",
    "      file = genai.get_file(name)\n",
    "    if file.state.name != \"ACTIVE\":\n",
    "      raise Exception(f\"File {file.name} failed to process\")\n",
    "  print(\"...all files ready\")\n",
    "  print()"
   ]
  },
  {
   "cell_type": "code",
   "execution_count": 8,
   "id": "8f0266e1",
   "metadata": {
    "execution": {
     "iopub.execute_input": "2024-11-21T16:53:02.257605Z",
     "iopub.status.busy": "2024-11-21T16:53:02.257193Z",
     "iopub.status.idle": "2024-11-21T16:53:02.263193Z",
     "shell.execute_reply": "2024-11-21T16:53:02.261685Z"
    },
    "papermill": {
     "duration": 0.017339,
     "end_time": "2024-11-21T16:53:02.266595",
     "exception": false,
     "start_time": "2024-11-21T16:53:02.249256",
     "status": "completed"
    },
    "tags": []
   },
   "outputs": [],
   "source": [
    "files = [\n",
    "  #upload_to_gemini('/kaggle/working/sample.csv', mime_type=\"text/plain\"),\n",
    "]\n",
    "\n",
    "#wait_for_files_active(files)\n"
   ]
  },
  {
   "cell_type": "code",
   "execution_count": 9,
   "id": "7b68ec4b",
   "metadata": {
    "execution": {
     "iopub.execute_input": "2024-11-21T16:53:02.278561Z",
     "iopub.status.busy": "2024-11-21T16:53:02.278146Z",
     "iopub.status.idle": "2024-11-21T16:53:02.329009Z",
     "shell.execute_reply": "2024-11-21T16:53:02.327501Z"
    },
    "papermill": {
     "duration": 0.059763,
     "end_time": "2024-11-21T16:53:02.331736",
     "exception": false,
     "start_time": "2024-11-21T16:53:02.271973",
     "status": "completed"
    },
    "tags": []
   },
   "outputs": [],
   "source": [
    "#where did these descs come from.\n",
    "#note these are only limited to coding regions of DNA\n",
    "INSTRUCTIONS = (\"system\",\n",
    "\"\"\"You are given genes from the E coli genome that have been classified in the Genome Taxonomy Database.This dataset you are given\n",
    "have columns as follows:\n",
    "\n",
    "'proteinID': Unique identifier given to every protein in the NCBI.\n",
    "'desc': the function the gene encodes for.\n",
    "'left_neighbor_desc': The description of the left neighbor of the gene in question.\n",
    "'right_neighbor_desc': The description of the right neighbor of the gene in question.\n",
    "\n",
    "A user is going to give you a putative or hypothetical gene and the description of its left and right neighbor. Your job is to determine what the\n",
    "genes encodes for, based on the examples given to you. Give the user the reasoning behind your conclusion, and cite specific examples from the dataset. \n",
    "If the user asks follow-up questions, limit your response to a succinct paragraph. If the user goes off-topic, redirect them back to the original question.\n",
    "\"\"\")\n",
    "\n",
    "\n",
    "welcome_message=\"\"\"Hello! My expertise is in the E coli genome. If you type in a putative/unidentified gene, but know the function of its neighbors, I can tell you\n",
    "what I think is it's function. Type q to quit. How can I help?\n",
    "\"\"\"\n",
    "\n",
    "INSTRUCTIONS = INSTRUCTIONS[:1] + (INSTRUCTIONS[1] + droppeddf.to_string(),)\n",
    "\n"
   ]
  },
  {
   "cell_type": "code",
   "execution_count": 10,
   "id": "d1084290",
   "metadata": {
    "execution": {
     "iopub.execute_input": "2024-11-21T16:53:02.343160Z",
     "iopub.status.busy": "2024-11-21T16:53:02.342723Z",
     "iopub.status.idle": "2024-11-21T16:53:02.734408Z",
     "shell.execute_reply": "2024-11-21T16:53:02.733205Z"
    },
    "papermill": {
     "duration": 0.400393,
     "end_time": "2024-11-21T16:53:02.736989",
     "exception": false,
     "start_time": "2024-11-21T16:53:02.336596",
     "status": "completed"
    },
    "tags": []
   },
   "outputs": [],
   "source": [
    "from langgraph.graph import StateGraph, START, END\n",
    "from langchain_google_genai import ChatGoogleGenerativeAI\n",
    "\n",
    "# Create the model\n",
    "generation_config = {\n",
    "  \"temperature\": 1,\n",
    "  \"top_p\": 0.95,\n",
    "  \"top_k\": 64,\n",
    "  \"max_output_tokens\": 8192,\n",
    "  \"response_mime_type\": \"text/plain\",\n",
    "}\n",
    "\n",
    "model = ChatGoogleGenerativeAI(model=\"gemini-1.5-flash-latest\",\n",
    "  generation_config=generation_config)\n",
    "\n"
   ]
  },
  {
   "cell_type": "markdown",
   "id": "dc045330",
   "metadata": {
    "papermill": {
     "duration": 0.004399,
     "end_time": "2024-11-21T16:53:02.746067",
     "exception": false,
     "start_time": "2024-11-21T16:53:02.741668",
     "status": "completed"
    },
    "tags": []
   },
   "source": [
    "# Adding a human node"
   ]
  },
  {
   "cell_type": "code",
   "execution_count": 11,
   "id": "805e932a",
   "metadata": {
    "execution": {
     "iopub.execute_input": "2024-11-21T16:53:02.757475Z",
     "iopub.status.busy": "2024-11-21T16:53:02.757113Z",
     "iopub.status.idle": "2024-11-21T16:53:02.769899Z",
     "shell.execute_reply": "2024-11-21T16:53:02.768919Z"
    },
    "papermill": {
     "duration": 0.021115,
     "end_time": "2024-11-21T16:53:02.772175",
     "exception": false,
     "start_time": "2024-11-21T16:53:02.751060",
     "status": "completed"
    },
    "tags": []
   },
   "outputs": [],
   "source": [
    "from langchain_core.messages.ai import AIMessage\n",
    "from typing import Literal\n",
    "\n",
    "def chatbot(state: ConversationState) -> ConversationState:\n",
    "    message_history = [INSTRUCTIONS] + state[\"messages\"]\n",
    "    return {\"messages\": [model.invoke(message_history)]}\n",
    "\n",
    "def human_node(state: ConversationState) -> ConversationState:\n",
    "    last_message = state[\"messages\"][-1]\n",
    "    print(\"\\n\", \"Model: \", last_message.content)\n",
    "    \n",
    "    user_input = input(\"You: \")\n",
    "    \n",
    "    if user_input in {\"q\", \"quit\"}:\n",
    "        state[\"finished\"] = True\n",
    "    \n",
    "    return state | {\"messages\": [(\"user\", user_input)]}\n",
    "\n",
    "\n",
    "def chatbot_with_welcome_message(state: ConversationState) -> ConversationState:\n",
    "    if state[\"messages\"]: \n",
    "        new_output = model.invoke([INSTRUCTIONS] + state[\"messages\"])\n",
    "    else:\n",
    "        new_output = AIMessage(content=welcome_message)\n",
    "    return state | {\"messages\": [new_output]}\n",
    "\n",
    "def exit_human_node(state: ConversationState) -> Literal[\"chatbot\", \"__end__\"]:\n",
    "    if state.get(\"finished\", False):\n",
    "        return END\n",
    "    else:\n",
    "        return \"chatbot\"\n",
    "\n",
    "\n",
    "graph_builder = StateGraph(ConversationState)\n",
    "graph_builder.add_node(\"chatbot\", chatbot_with_welcome_message)\n",
    "graph_builder.add_node(\"human\", human_node)\n",
    "graph_builder.add_edge(START, \"chatbot\")\n",
    "\n",
    "graph_builder.add_edge(\"chatbot\", \"human\")\n",
    "\n",
    "graph_builder.add_conditional_edges(\"human\", exit_human_node)\n",
    "\n",
    "chat_graph = graph_builder.compile()\n",
    "\n",
    "#uncomment to start chat\n",
    "#state = chat_graph.invoke({\"messages\": []})\n"
   ]
  },
  {
   "cell_type": "code",
   "execution_count": 12,
   "id": "d6473f8a",
   "metadata": {
    "execution": {
     "iopub.execute_input": "2024-11-21T16:53:02.783197Z",
     "iopub.status.busy": "2024-11-21T16:53:02.782801Z",
     "iopub.status.idle": "2024-11-21T16:53:02.787108Z",
     "shell.execute_reply": "2024-11-21T16:53:02.786019Z"
    },
    "papermill": {
     "duration": 0.012108,
     "end_time": "2024-11-21T16:53:02.789096",
     "exception": false,
     "start_time": "2024-11-21T16:53:02.776988",
     "status": "completed"
    },
    "tags": []
   },
   "outputs": [],
   "source": [
    "#response = chat_session.send_message(prompt)\n",
    "#print(response.text)"
   ]
  },
  {
   "cell_type": "code",
   "execution_count": null,
   "id": "b5b35e58",
   "metadata": {
    "papermill": {
     "duration": 0.004335,
     "end_time": "2024-11-21T16:53:02.798131",
     "exception": false,
     "start_time": "2024-11-21T16:53:02.793796",
     "status": "completed"
    },
    "tags": []
   },
   "outputs": [],
   "source": []
  }
 ],
 "metadata": {
  "kaggle": {
   "accelerator": "none",
   "dataSources": [
    {
     "databundleVersionId": 9881586,
     "sourceId": 83735,
     "sourceType": "competition"
    },
    {
     "datasetId": 6072477,
     "sourceId": 9888111,
     "sourceType": "datasetVersion"
    }
   ],
   "dockerImageVersionId": 30786,
   "isGpuEnabled": false,
   "isInternetEnabled": true,
   "language": "python",
   "sourceType": "notebook"
  },
  "kernelspec": {
   "display_name": "Python 3",
   "language": "python",
   "name": "python3"
  },
  "language_info": {
   "codemirror_mode": {
    "name": "ipython",
    "version": 3
   },
   "file_extension": ".py",
   "mimetype": "text/x-python",
   "name": "python",
   "nbconvert_exporter": "python",
   "pygments_lexer": "ipython3",
   "version": "3.10.14"
  },
  "papermill": {
   "default_parameters": {},
   "duration": 51.985762,
   "end_time": "2024-11-21T16:53:03.726219",
   "environment_variables": {},
   "exception": null,
   "input_path": "__notebook__.ipynb",
   "output_path": "__notebook__.ipynb",
   "parameters": {},
   "start_time": "2024-11-21T16:52:11.740457",
   "version": "2.6.0"
  }
 },
 "nbformat": 4,
 "nbformat_minor": 5
}
